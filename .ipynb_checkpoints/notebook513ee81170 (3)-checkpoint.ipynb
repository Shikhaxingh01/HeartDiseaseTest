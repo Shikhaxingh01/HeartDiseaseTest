{
 "cells": [
  {
   "cell_type": "code",
   "execution_count": 1,
   "metadata": {
    "_cell_guid": "b1076dfc-b9ad-4769-8c92-a6c4dae69d19",
    "_uuid": "8f2839f25d086af736a60e9eeb907d3b93b6e0e5",
    "execution": {
     "iopub.execute_input": "2023-10-29T15:55:34.652956Z",
     "iopub.status.busy": "2023-10-29T15:55:34.652357Z",
     "iopub.status.idle": "2023-10-29T15:55:34.666794Z",
     "shell.execute_reply": "2023-10-29T15:55:34.665774Z",
     "shell.execute_reply.started": "2023-10-29T15:55:34.652883Z"
    }
   },
   "outputs": [],
   "source": [
    "# This Python 3 environment comes with many helpful analytics libraries installed\n",
    "# It is defined by the kaggle/python Docker image: https://github.com/kaggle/docker-python\n",
    "# For example, here's several helpful packages to load\n",
    "\n",
    "import numpy as np # linear algebra\n",
    "import pandas as pd # data processing, CSV file I/O (e.g. pd.read_csv)\n",
    "from sklearn.tree import DecisionTreeClassifier\n",
    "from sklearn.model_selection import train_test_split\n",
    "from sklearn.ensemble import RandomForestClassifier\n",
    "from xgboost import XGBClassifier\n",
    "import matplotlib.pyplot as plt\n",
    "from sklearn.metrics import accuracy_score\n",
    "# plt.style.use('./deeplearning.mplstyle')\n",
    "# Input data files are available in the read-only \"../input/\" directory\n",
    "# For example, running this (by clicking run or pressing Shift+Enter) will list all files under the input directory\n",
    "RANDOM_STATE = 55\n",
    "import os\n",
    "for dirname, _, filenames in os.walk('/kaggle/input'):\n",
    "    for filename in filenames:\n",
    "        print(os.path.join(dirname, filename))\n",
    "\n",
    "# You can write up to 20GB to the current directory (/kaggle/working/) that gets preserved as output when you create a version using \"Save & Run All\" \n",
    "# You can also write temporary files to /kaggle/temp/, but they won't be saved outside of the current session"
   ]
  },
  {
   "cell_type": "code",
   "execution_count": 2,
   "metadata": {
    "execution": {
     "iopub.execute_input": "2023-10-29T15:55:34.671965Z",
     "iopub.status.busy": "2023-10-29T15:55:34.669144Z",
     "iopub.status.idle": "2023-10-29T15:55:34.716482Z",
     "shell.execute_reply": "2023-10-29T15:55:34.715176Z",
     "shell.execute_reply.started": "2023-10-29T15:55:34.671918Z"
    }
   },
   "outputs": [],
   "source": [
    "def normalize(x):\n",
    "    mu = np.mean(x)\n",
    "    std = np.std(x)\n",
    "    x = (x-mu)/std\n",
    "    \n",
    "    return x"
   ]
  },
  {
   "cell_type": "code",
   "execution_count": 3,
   "metadata": {
    "execution": {
     "iopub.execute_input": "2023-10-29T15:55:34.720376Z",
     "iopub.status.busy": "2023-10-29T15:55:34.719433Z",
     "iopub.status.idle": "2023-10-29T15:55:34.767161Z",
     "shell.execute_reply": "2023-10-29T15:55:34.766002Z",
     "shell.execute_reply.started": "2023-10-29T15:55:34.720319Z"
    }
   },
   "outputs": [
    {
     "data": {
      "text/html": [
       "<div>\n",
       "<style scoped>\n",
       "    .dataframe tbody tr th:only-of-type {\n",
       "        vertical-align: middle;\n",
       "    }\n",
       "\n",
       "    .dataframe tbody tr th {\n",
       "        vertical-align: top;\n",
       "    }\n",
       "\n",
       "    .dataframe thead th {\n",
       "        text-align: right;\n",
       "    }\n",
       "</style>\n",
       "<table border=\"1\" class=\"dataframe\">\n",
       "  <thead>\n",
       "    <tr style=\"text-align: right;\">\n",
       "      <th></th>\n",
       "      <th>Age</th>\n",
       "      <th>Sex</th>\n",
       "      <th>ChestPainType</th>\n",
       "      <th>RestingBP</th>\n",
       "      <th>Cholesterol</th>\n",
       "      <th>FastingBS</th>\n",
       "      <th>RestingECG</th>\n",
       "      <th>MaxHR</th>\n",
       "      <th>ExerciseAngina</th>\n",
       "      <th>Oldpeak</th>\n",
       "      <th>ST_Slope</th>\n",
       "      <th>HeartDisease</th>\n",
       "    </tr>\n",
       "  </thead>\n",
       "  <tbody>\n",
       "    <tr>\n",
       "      <th>0</th>\n",
       "      <td>40</td>\n",
       "      <td>M</td>\n",
       "      <td>ATA</td>\n",
       "      <td>140</td>\n",
       "      <td>289</td>\n",
       "      <td>0</td>\n",
       "      <td>Normal</td>\n",
       "      <td>172</td>\n",
       "      <td>N</td>\n",
       "      <td>0.0</td>\n",
       "      <td>Up</td>\n",
       "      <td>0</td>\n",
       "    </tr>\n",
       "    <tr>\n",
       "      <th>1</th>\n",
       "      <td>49</td>\n",
       "      <td>F</td>\n",
       "      <td>NAP</td>\n",
       "      <td>160</td>\n",
       "      <td>180</td>\n",
       "      <td>0</td>\n",
       "      <td>Normal</td>\n",
       "      <td>156</td>\n",
       "      <td>N</td>\n",
       "      <td>1.0</td>\n",
       "      <td>Flat</td>\n",
       "      <td>1</td>\n",
       "    </tr>\n",
       "    <tr>\n",
       "      <th>2</th>\n",
       "      <td>37</td>\n",
       "      <td>M</td>\n",
       "      <td>ATA</td>\n",
       "      <td>130</td>\n",
       "      <td>283</td>\n",
       "      <td>0</td>\n",
       "      <td>ST</td>\n",
       "      <td>98</td>\n",
       "      <td>N</td>\n",
       "      <td>0.0</td>\n",
       "      <td>Up</td>\n",
       "      <td>0</td>\n",
       "    </tr>\n",
       "    <tr>\n",
       "      <th>3</th>\n",
       "      <td>48</td>\n",
       "      <td>F</td>\n",
       "      <td>ASY</td>\n",
       "      <td>138</td>\n",
       "      <td>214</td>\n",
       "      <td>0</td>\n",
       "      <td>Normal</td>\n",
       "      <td>108</td>\n",
       "      <td>Y</td>\n",
       "      <td>1.5</td>\n",
       "      <td>Flat</td>\n",
       "      <td>1</td>\n",
       "    </tr>\n",
       "    <tr>\n",
       "      <th>4</th>\n",
       "      <td>54</td>\n",
       "      <td>M</td>\n",
       "      <td>NAP</td>\n",
       "      <td>150</td>\n",
       "      <td>195</td>\n",
       "      <td>0</td>\n",
       "      <td>Normal</td>\n",
       "      <td>122</td>\n",
       "      <td>N</td>\n",
       "      <td>0.0</td>\n",
       "      <td>Up</td>\n",
       "      <td>0</td>\n",
       "    </tr>\n",
       "  </tbody>\n",
       "</table>\n",
       "</div>"
      ],
      "text/plain": [
       "   Age Sex ChestPainType  RestingBP  Cholesterol  FastingBS RestingECG  MaxHR  \\\n",
       "0   40   M           ATA        140          289          0     Normal    172   \n",
       "1   49   F           NAP        160          180          0     Normal    156   \n",
       "2   37   M           ATA        130          283          0         ST     98   \n",
       "3   48   F           ASY        138          214          0     Normal    108   \n",
       "4   54   M           NAP        150          195          0     Normal    122   \n",
       "\n",
       "  ExerciseAngina  Oldpeak ST_Slope  HeartDisease  \n",
       "0              N      0.0       Up             0  \n",
       "1              N      1.0     Flat             1  \n",
       "2              N      0.0       Up             0  \n",
       "3              Y      1.5     Flat             1  \n",
       "4              N      0.0       Up             0  "
      ]
     },
     "execution_count": 3,
     "metadata": {},
     "output_type": "execute_result"
    }
   ],
   "source": [
    "# Define the direct path to the CSV file\n",
    "path = \"heart.csv\"\n",
    "\n",
    "# Read the CSV file\n",
    "df = pd.read_csv(path)\n",
    "\n",
    "# Display the DataFrame\n",
    "df.head()\n"
   ]
  },
  {
   "cell_type": "code",
   "execution_count": 4,
   "metadata": {
    "execution": {
     "iopub.execute_input": "2023-10-29T15:55:34.775971Z",
     "iopub.status.busy": "2023-10-29T15:55:34.772516Z",
     "iopub.status.idle": "2023-10-29T15:55:34.793873Z",
     "shell.execute_reply": "2023-10-29T15:55:34.792352Z",
     "shell.execute_reply.started": "2023-10-29T15:55:34.775912Z"
    }
   },
   "outputs": [],
   "source": [
    "columns = [\n",
    "    \"Sex\",\n",
    "    \"ChestPainType\",\n",
    "    \"RestingECG\",\n",
    "     \"ExerciseAngina\",\n",
    "    \"ST_Slope\"\n",
    "]\n",
    "df = pd.get_dummies(df, prefix = columns  , columns = columns , dtype = float)"
   ]
  },
  {
   "cell_type": "code",
   "execution_count": 5,
   "metadata": {
    "execution": {
     "iopub.execute_input": "2023-10-29T15:55:34.804302Z",
     "iopub.status.busy": "2023-10-29T15:55:34.801281Z",
     "iopub.status.idle": "2023-10-29T15:55:34.860108Z",
     "shell.execute_reply": "2023-10-29T15:55:34.858778Z",
     "shell.execute_reply.started": "2023-10-29T15:55:34.804244Z"
    }
   },
   "outputs": [
    {
     "data": {
      "text/html": [
       "<div>\n",
       "<style scoped>\n",
       "    .dataframe tbody tr th:only-of-type {\n",
       "        vertical-align: middle;\n",
       "    }\n",
       "\n",
       "    .dataframe tbody tr th {\n",
       "        vertical-align: top;\n",
       "    }\n",
       "\n",
       "    .dataframe thead th {\n",
       "        text-align: right;\n",
       "    }\n",
       "</style>\n",
       "<table border=\"1\" class=\"dataframe\">\n",
       "  <thead>\n",
       "    <tr style=\"text-align: right;\">\n",
       "      <th></th>\n",
       "      <th>Age</th>\n",
       "      <th>RestingBP</th>\n",
       "      <th>Cholesterol</th>\n",
       "      <th>FastingBS</th>\n",
       "      <th>MaxHR</th>\n",
       "      <th>Oldpeak</th>\n",
       "      <th>HeartDisease</th>\n",
       "      <th>Sex_F</th>\n",
       "      <th>Sex_M</th>\n",
       "      <th>ChestPainType_ASY</th>\n",
       "      <th>...</th>\n",
       "      <th>ChestPainType_NAP</th>\n",
       "      <th>ChestPainType_TA</th>\n",
       "      <th>RestingECG_LVH</th>\n",
       "      <th>RestingECG_Normal</th>\n",
       "      <th>RestingECG_ST</th>\n",
       "      <th>ExerciseAngina_N</th>\n",
       "      <th>ExerciseAngina_Y</th>\n",
       "      <th>ST_Slope_Down</th>\n",
       "      <th>ST_Slope_Flat</th>\n",
       "      <th>ST_Slope_Up</th>\n",
       "    </tr>\n",
       "  </thead>\n",
       "  <tbody>\n",
       "    <tr>\n",
       "      <th>0</th>\n",
       "      <td>40</td>\n",
       "      <td>140</td>\n",
       "      <td>289</td>\n",
       "      <td>0</td>\n",
       "      <td>172</td>\n",
       "      <td>0.0</td>\n",
       "      <td>0</td>\n",
       "      <td>0.0</td>\n",
       "      <td>1.0</td>\n",
       "      <td>0.0</td>\n",
       "      <td>...</td>\n",
       "      <td>0.0</td>\n",
       "      <td>0.0</td>\n",
       "      <td>0.0</td>\n",
       "      <td>1.0</td>\n",
       "      <td>0.0</td>\n",
       "      <td>1.0</td>\n",
       "      <td>0.0</td>\n",
       "      <td>0.0</td>\n",
       "      <td>0.0</td>\n",
       "      <td>1.0</td>\n",
       "    </tr>\n",
       "    <tr>\n",
       "      <th>1</th>\n",
       "      <td>49</td>\n",
       "      <td>160</td>\n",
       "      <td>180</td>\n",
       "      <td>0</td>\n",
       "      <td>156</td>\n",
       "      <td>1.0</td>\n",
       "      <td>1</td>\n",
       "      <td>1.0</td>\n",
       "      <td>0.0</td>\n",
       "      <td>0.0</td>\n",
       "      <td>...</td>\n",
       "      <td>1.0</td>\n",
       "      <td>0.0</td>\n",
       "      <td>0.0</td>\n",
       "      <td>1.0</td>\n",
       "      <td>0.0</td>\n",
       "      <td>1.0</td>\n",
       "      <td>0.0</td>\n",
       "      <td>0.0</td>\n",
       "      <td>1.0</td>\n",
       "      <td>0.0</td>\n",
       "    </tr>\n",
       "    <tr>\n",
       "      <th>2</th>\n",
       "      <td>37</td>\n",
       "      <td>130</td>\n",
       "      <td>283</td>\n",
       "      <td>0</td>\n",
       "      <td>98</td>\n",
       "      <td>0.0</td>\n",
       "      <td>0</td>\n",
       "      <td>0.0</td>\n",
       "      <td>1.0</td>\n",
       "      <td>0.0</td>\n",
       "      <td>...</td>\n",
       "      <td>0.0</td>\n",
       "      <td>0.0</td>\n",
       "      <td>0.0</td>\n",
       "      <td>0.0</td>\n",
       "      <td>1.0</td>\n",
       "      <td>1.0</td>\n",
       "      <td>0.0</td>\n",
       "      <td>0.0</td>\n",
       "      <td>0.0</td>\n",
       "      <td>1.0</td>\n",
       "    </tr>\n",
       "    <tr>\n",
       "      <th>3</th>\n",
       "      <td>48</td>\n",
       "      <td>138</td>\n",
       "      <td>214</td>\n",
       "      <td>0</td>\n",
       "      <td>108</td>\n",
       "      <td>1.5</td>\n",
       "      <td>1</td>\n",
       "      <td>1.0</td>\n",
       "      <td>0.0</td>\n",
       "      <td>1.0</td>\n",
       "      <td>...</td>\n",
       "      <td>0.0</td>\n",
       "      <td>0.0</td>\n",
       "      <td>0.0</td>\n",
       "      <td>1.0</td>\n",
       "      <td>0.0</td>\n",
       "      <td>0.0</td>\n",
       "      <td>1.0</td>\n",
       "      <td>0.0</td>\n",
       "      <td>1.0</td>\n",
       "      <td>0.0</td>\n",
       "    </tr>\n",
       "    <tr>\n",
       "      <th>4</th>\n",
       "      <td>54</td>\n",
       "      <td>150</td>\n",
       "      <td>195</td>\n",
       "      <td>0</td>\n",
       "      <td>122</td>\n",
       "      <td>0.0</td>\n",
       "      <td>0</td>\n",
       "      <td>0.0</td>\n",
       "      <td>1.0</td>\n",
       "      <td>0.0</td>\n",
       "      <td>...</td>\n",
       "      <td>1.0</td>\n",
       "      <td>0.0</td>\n",
       "      <td>0.0</td>\n",
       "      <td>1.0</td>\n",
       "      <td>0.0</td>\n",
       "      <td>1.0</td>\n",
       "      <td>0.0</td>\n",
       "      <td>0.0</td>\n",
       "      <td>0.0</td>\n",
       "      <td>1.0</td>\n",
       "    </tr>\n",
       "  </tbody>\n",
       "</table>\n",
       "<p>5 rows × 21 columns</p>\n",
       "</div>"
      ],
      "text/plain": [
       "   Age  RestingBP  Cholesterol  FastingBS  MaxHR  Oldpeak  HeartDisease  \\\n",
       "0   40        140          289          0    172      0.0             0   \n",
       "1   49        160          180          0    156      1.0             1   \n",
       "2   37        130          283          0     98      0.0             0   \n",
       "3   48        138          214          0    108      1.5             1   \n",
       "4   54        150          195          0    122      0.0             0   \n",
       "\n",
       "   Sex_F  Sex_M  ChestPainType_ASY  ...  ChestPainType_NAP  ChestPainType_TA  \\\n",
       "0    0.0    1.0                0.0  ...                0.0               0.0   \n",
       "1    1.0    0.0                0.0  ...                1.0               0.0   \n",
       "2    0.0    1.0                0.0  ...                0.0               0.0   \n",
       "3    1.0    0.0                1.0  ...                0.0               0.0   \n",
       "4    0.0    1.0                0.0  ...                1.0               0.0   \n",
       "\n",
       "   RestingECG_LVH  RestingECG_Normal  RestingECG_ST  ExerciseAngina_N  \\\n",
       "0             0.0                1.0            0.0               1.0   \n",
       "1             0.0                1.0            0.0               1.0   \n",
       "2             0.0                0.0            1.0               1.0   \n",
       "3             0.0                1.0            0.0               0.0   \n",
       "4             0.0                1.0            0.0               1.0   \n",
       "\n",
       "   ExerciseAngina_Y  ST_Slope_Down  ST_Slope_Flat  ST_Slope_Up  \n",
       "0               0.0            0.0            0.0          1.0  \n",
       "1               0.0            0.0            1.0          0.0  \n",
       "2               0.0            0.0            0.0          1.0  \n",
       "3               1.0            0.0            1.0          0.0  \n",
       "4               0.0            0.0            0.0          1.0  \n",
       "\n",
       "[5 rows x 21 columns]"
      ]
     },
     "execution_count": 5,
     "metadata": {},
     "output_type": "execute_result"
    }
   ],
   "source": [
    "df.head()"
   ]
  },
  {
   "cell_type": "code",
   "execution_count": 6,
   "metadata": {
    "execution": {
     "iopub.execute_input": "2023-10-29T15:55:34.863822Z",
     "iopub.status.busy": "2023-10-29T15:55:34.862007Z",
     "iopub.status.idle": "2023-10-29T15:55:34.880541Z",
     "shell.execute_reply": "2023-10-29T15:55:34.878652Z",
     "shell.execute_reply.started": "2023-10-29T15:55:34.863772Z"
    }
   },
   "outputs": [],
   "source": [
    "target = df[\"HeartDisease\"]\n",
    "features = df.drop(\"HeartDisease\", axis = 1)"
   ]
  },
  {
   "cell_type": "code",
   "execution_count": 7,
   "metadata": {
    "execution": {
     "iopub.execute_input": "2023-10-29T15:55:34.884292Z",
     "iopub.status.busy": "2023-10-29T15:55:34.883053Z",
     "iopub.status.idle": "2023-10-29T15:55:34.902574Z",
     "shell.execute_reply": "2023-10-29T15:55:34.901019Z",
     "shell.execute_reply.started": "2023-10-29T15:55:34.884238Z"
    }
   },
   "outputs": [
    {
     "data": {
      "text/plain": [
       "20"
      ]
     },
     "execution_count": 7,
     "metadata": {},
     "output_type": "execute_result"
    }
   ],
   "source": [
    "len(features.columns)"
   ]
  },
  {
   "cell_type": "code",
   "execution_count": 8,
   "metadata": {
    "execution": {
     "iopub.execute_input": "2023-10-29T15:55:34.906731Z",
     "iopub.status.busy": "2023-10-29T15:55:34.905402Z",
     "iopub.status.idle": "2023-10-29T15:55:34.923229Z",
     "shell.execute_reply": "2023-10-29T15:55:34.922062Z",
     "shell.execute_reply.started": "2023-10-29T15:55:34.906649Z"
    }
   },
   "outputs": [],
   "source": [
    "X_train , X_val, y_train, y_val = train_test_split(features, target, train_size = 0.8)"
   ]
  },
  {
   "cell_type": "code",
   "execution_count": 9,
   "metadata": {
    "execution": {
     "iopub.execute_input": "2023-10-29T15:55:34.926427Z",
     "iopub.status.busy": "2023-10-29T15:55:34.925559Z",
     "iopub.status.idle": "2023-10-29T15:55:34.945216Z",
     "shell.execute_reply": "2023-10-29T15:55:34.943836Z",
     "shell.execute_reply.started": "2023-10-29T15:55:34.926380Z"
    }
   },
   "outputs": [],
   "source": [
    "X_train_norm = normalize(np.array(X_train))\n",
    "X_val_norm = normalize(np.array(X_val))"
   ]
  },
  {
   "cell_type": "code",
   "execution_count": 10,
   "metadata": {
    "execution": {
     "iopub.execute_input": "2023-10-29T15:55:34.952940Z",
     "iopub.status.busy": "2023-10-29T15:55:34.951914Z",
     "iopub.status.idle": "2023-10-29T15:55:34.966305Z",
     "shell.execute_reply": "2023-10-29T15:55:34.964929Z",
     "shell.execute_reply.started": "2023-10-29T15:55:34.952889Z"
    }
   },
   "outputs": [],
   "source": [
    "min_samples_split_list = [2,10, 30, 50, 100, 200, 300, 700] ## If the number is an integer, then it is the actual quantity of samples,\n",
    "max_depth_list = [1,2, 3, 4, 8, 16, 32, 64, None] # None means that there is no depth limit."
   ]
  },
  {
   "cell_type": "code",
   "execution_count": 11,
   "metadata": {
    "execution": {
     "iopub.execute_input": "2023-10-29T15:55:34.969300Z",
     "iopub.status.busy": "2023-10-29T15:55:34.968360Z",
     "iopub.status.idle": "2023-10-29T15:55:35.431743Z",
     "shell.execute_reply": "2023-10-29T15:55:35.430521Z",
     "shell.execute_reply.started": "2023-10-29T15:55:34.969252Z"
    }
   },
   "outputs": [
    {
     "data": {
      "text/plain": [
       "<matplotlib.legend.Legend at 0x202724d2548>"
      ]
     },
     "execution_count": 11,
     "metadata": {},
     "output_type": "execute_result"
    },
    {
     "data": {
      "image/png": "[encoded data removed]",
      "text/plain": [
       "<Figure size 640x480 with 1 Axes>"
      ]
     },
     "metadata": {},
     "output_type": "display_data"
    }
   ],
   "source": [
    "accuracy_list_train = []\n",
    "accuracy_list_val = []\n",
    "for min_samples in min_samples_split_list:\n",
    "    model = DecisionTreeClassifier(min_samples_split = min_samples).fit(X_train_norm, y_train)\n",
    "    train_pred = model.predict(X_train_norm)\n",
    "    val_pred = model.predict(X_val_norm)\n",
    "    accuracy_list_train.append(accuracy_score(train_pred, y_train))\n",
    "    accuracy_list_val.append(accuracy_score(val_pred, y_val))\n",
    "    \n",
    "    \n",
    "plt.title(\"train x validation metrices\")\n",
    "plt.xlabel('min_samples_split')\n",
    "plt.ylabel('accuracy')\n",
    "plt.xticks(ticks = range(len(min_samples_split_list )),labels=min_samples_split_list)\n",
    "plt.plot(accuracy_list_train)\n",
    "plt.plot(accuracy_list_val)\n",
    "plt.legend([\"trian\", \"validation\"])"
   ]
  },
  {
   "cell_type": "code",
   "execution_count": 12,
   "metadata": {
    "execution": {
     "iopub.execute_input": "2023-10-29T15:55:35.439593Z",
     "iopub.status.busy": "2023-10-29T15:55:35.436961Z",
     "iopub.status.idle": "2023-10-29T15:55:35.875328Z",
     "shell.execute_reply": "2023-10-29T15:55:35.874167Z",
     "shell.execute_reply.started": "2023-10-29T15:55:35.439530Z"
    }
   },
   "outputs": [
    {
     "data": {
      "text/plain": [
       "<matplotlib.legend.Legend at 0x20272598e88>"
      ]
     },
     "execution_count": 12,
     "metadata": {},
     "output_type": "execute_result"
    },
    {
     "data": {
      "image/png": "[encoded data removed]",
      "text/plain": [
       "<Figure size 640x480 with 1 Axes>"
      ]
     },
     "metadata": {},
     "output_type": "display_data"
    }
   ],
   "source": [
    "accuracy_list_train = []\n",
    "accuracy_list_val = []\n",
    "for max_depth in max_depth_list:\n",
    "    # You can fit the model at the same time you define it, because the fit function returns the fitted estimator.\n",
    "    model = DecisionTreeClassifier(max_depth = max_depth,\n",
    "                                   random_state = RANDOM_STATE).fit(X_train,y_train) \n",
    "    predictions_train = model.predict(X_train) ## The predicted values for the train dataset\n",
    "    predictions_val = model.predict(X_val) ## The predicted values for the test dataset\n",
    "    accuracy_train = accuracy_score(predictions_train,y_train)\n",
    "    accuracy_val = accuracy_score(predictions_val,y_val)\n",
    "    accuracy_list_train.append(accuracy_train)\n",
    "    accuracy_list_val.append(accuracy_val)\n",
    "\n",
    "plt.title('Train x Validation metrics')\n",
    "plt.xlabel('max_depth')\n",
    "plt.ylabel('accuracy')\n",
    "plt.xticks(ticks = range(len(max_depth_list )),labels=max_depth_list)\n",
    "plt.plot(accuracy_list_train)\n",
    "plt.plot(accuracy_list_val)\n",
    "plt.legend(['Train','Validation'])"
   ]
  },
  {
   "cell_type": "code",
   "execution_count": 13,
   "metadata": {
    "execution": {
     "iopub.execute_input": "2023-10-29T15:55:35.883304Z",
     "iopub.status.busy": "2023-10-29T15:55:35.880602Z",
     "iopub.status.idle": "2023-10-29T15:55:35.890120Z",
     "shell.execute_reply": "2023-10-29T15:55:35.888947Z",
     "shell.execute_reply.started": "2023-10-29T15:55:35.883252Z"
    }
   },
   "outputs": [],
   "source": [
    "max_depth = 4\n",
    "min_samples_split = 50"
   ]
  },
  {
   "cell_type": "code",
   "execution_count": 14,
   "metadata": {
    "execution": {
     "iopub.execute_input": "2023-10-29T15:55:35.898759Z",
     "iopub.status.busy": "2023-10-29T15:55:35.895658Z",
     "iopub.status.idle": "2023-10-29T15:55:35.916358Z",
     "shell.execute_reply": "2023-10-29T15:55:35.915143Z",
     "shell.execute_reply.started": "2023-10-29T15:55:35.898675Z"
    }
   },
   "outputs": [
    {
     "data": {
      "text/plain": [
       "DecisionTreeClassifier(max_depth=4, min_samples_split=50)"
      ]
     },
     "execution_count": 14,
     "metadata": {},
     "output_type": "execute_result"
    }
   ],
   "source": [
    "decision_tree_model = DecisionTreeClassifier(max_depth = 4, min_samples_split = 50)\n",
    "decision_tree_model.fit(X_train_norm, y_train)"
   ]
  },
  {
   "cell_type": "code",
   "execution_count": 15,
   "metadata": {
    "execution": {
     "iopub.execute_input": "2023-10-29T15:55:35.924992Z",
     "iopub.status.busy": "2023-10-29T15:55:35.922182Z",
     "iopub.status.idle": "2023-10-29T15:55:35.933378Z",
     "shell.execute_reply": "2023-10-29T15:55:35.932244Z",
     "shell.execute_reply.started": "2023-10-29T15:55:35.924938Z"
    }
   },
   "outputs": [],
   "source": [
    "prediction = decision_tree_model.predict(X_val_norm)"
   ]
  },
  {
   "cell_type": "code",
   "execution_count": 16,
   "metadata": {
    "execution": {
     "iopub.execute_input": "2023-10-29T15:55:35.943141Z",
     "iopub.status.busy": "2023-10-29T15:55:35.939399Z",
     "iopub.status.idle": "2023-10-29T15:55:35.955070Z",
     "shell.execute_reply": "2023-10-29T15:55:35.953977Z",
     "shell.execute_reply.started": "2023-10-29T15:55:35.943082Z"
    }
   },
   "outputs": [
    {
     "name": "stdout",
     "output_type": "stream",
     "text": [
      "Accuracy is 0.842391304347826\n"
     ]
    }
   ],
   "source": [
    "print(f\"Accuracy is {accuracy_score(prediction, y_val)}\")"
   ]
  },
  {
   "cell_type": "code",
   "execution_count": 17,
   "metadata": {
    "execution": {
     "iopub.execute_input": "2023-10-29T15:55:35.957790Z",
     "iopub.status.busy": "2023-10-29T15:55:35.956821Z",
     "iopub.status.idle": "2023-10-29T15:55:35.969479Z",
     "shell.execute_reply": "2023-10-29T15:55:35.968333Z",
     "shell.execute_reply.started": "2023-10-29T15:55:35.957701Z"
    }
   },
   "outputs": [],
   "source": [
    "#Now lets try Randomforest \n",
    "n_estimators_list = [10,50,100,500]"
   ]
  },
  {
   "cell_type": "code",
   "execution_count": 18,
   "metadata": {
    "execution": {
     "iopub.execute_input": "2023-10-29T15:55:35.972357Z",
     "iopub.status.busy": "2023-10-29T15:55:35.971572Z",
     "iopub.status.idle": "2023-10-29T15:55:38.289760Z",
     "shell.execute_reply": "2023-10-29T15:55:38.288536Z",
     "shell.execute_reply.started": "2023-10-29T15:55:35.972314Z"
    }
   },
   "outputs": [
    {
     "data": {
      "text/plain": [
       "<matplotlib.legend.Legend at 0x20272851188>"
      ]
     },
     "execution_count": 18,
     "metadata": {},
     "output_type": "execute_result"
    },
    {
     "data": {
      "image/png": "[encoded data removed]",
      "text/plain": [
       "<Figure size 640x480 with 1 Axes>"
      ]
     },
     "metadata": {},
     "output_type": "display_data"
    }
   ],
   "source": [
    "accuracy_list_train = []\n",
    "accuracy_list_val = []\n",
    "for min_samples_split in min_samples_split_list:\n",
    "    # You can fit the model at the same time you define it, because the fit function returns the fitted estimator.\n",
    "    model = RandomForestClassifier(min_samples_split = min_samples_split,\n",
    "                                   random_state = RANDOM_STATE).fit(X_train,y_train) \n",
    "    predictions_train = model.predict(X_train) ## The predicted values for the train dataset\n",
    "    predictions_val = model.predict(X_val) ## The predicted values for the test dataset\n",
    "    accuracy_train = accuracy_score(predictions_train,y_train)\n",
    "    accuracy_val = accuracy_score(predictions_val,y_val)\n",
    "    accuracy_list_train.append(accuracy_train)\n",
    "    accuracy_list_val.append(accuracy_val)\n",
    "\n",
    "plt.title('Train x Validation metrics')\n",
    "plt.xlabel('min_samples_split')\n",
    "plt.ylabel('accuracy')\n",
    "plt.xticks(ticks = range(len(min_samples_split_list )),labels=min_samples_split_list) \n",
    "plt.plot(accuracy_list_train)\n",
    "plt.plot(accuracy_list_val)\n",
    "plt.legend(['Train','Validation'])"
   ]
  },
  {
   "cell_type": "code",
   "execution_count": 19,
   "metadata": {
    "execution": {
     "iopub.execute_input": "2023-10-29T15:55:38.299798Z",
     "iopub.status.busy": "2023-10-29T15:55:38.296386Z",
     "iopub.status.idle": "2023-10-29T15:55:40.879008Z",
     "shell.execute_reply": "2023-10-29T15:55:40.877910Z",
     "shell.execute_reply.started": "2023-10-29T15:55:38.299732Z"
    }
   },
   "outputs": [
    {
     "data": {
      "text/plain": [
       "<matplotlib.legend.Legend at 0x202728e4248>"
      ]
     },
     "execution_count": 19,
     "metadata": {},
     "output_type": "execute_result"
    },
    {
     "data": {
      "image/png": "[encoded data removed]",
      "text/plain": [
       "<Figure size 640x480 with 1 Axes>"
      ]
     },
     "metadata": {},
     "output_type": "display_data"
    }
   ],
   "source": [
    "accuracy_list_train = []\n",
    "accuracy_list_val = []\n",
    "for max_depth in max_depth_list:\n",
    "    # You can fit the model at the same time you define it, because the fit function returns the fitted estimator.\n",
    "    model = RandomForestClassifier(max_depth = max_depth,\n",
    "                                   random_state = RANDOM_STATE).fit(X_train,y_train) \n",
    "    predictions_train = model.predict(X_train) ## The predicted values for the train dataset\n",
    "    predictions_val = model.predict(X_val) ## The predicted values for the test dataset\n",
    "    accuracy_train = accuracy_score(predictions_train,y_train)\n",
    "    accuracy_val = accuracy_score(predictions_val,y_val)\n",
    "    accuracy_list_train.append(accuracy_train)\n",
    "    accuracy_list_val.append(accuracy_val)\n",
    "\n",
    "plt.title('Train x Validation metrics')\n",
    "plt.xlabel('max_depth')\n",
    "plt.ylabel('accuracy')\n",
    "plt.xticks(ticks = range(len(max_depth_list )),labels=max_depth_list)\n",
    "plt.plot(accuracy_list_train)\n",
    "plt.plot(accuracy_list_val)\n",
    "plt.legend(['Train','Validation'])"
   ]
  },
  {
   "cell_type": "code",
   "execution_count": 20,
   "metadata": {
    "execution": {
     "iopub.execute_input": "2023-10-29T15:55:40.886144Z",
     "iopub.status.busy": "2023-10-29T15:55:40.883854Z",
     "iopub.status.idle": "2023-10-29T15:55:42.857533Z",
     "shell.execute_reply": "2023-10-29T15:55:42.856282Z",
     "shell.execute_reply.started": "2023-10-29T15:55:40.886103Z"
    }
   },
   "outputs": [
    {
     "data": {
      "text/plain": [
       "<matplotlib.legend.Legend at 0x20272979648>"
      ]
     },
     "execution_count": 20,
     "metadata": {},
     "output_type": "execute_result"
    },
    {
     "data": {
      "image/png": "[encoded data removed]",
      "text/plain": [
       "<Figure size 640x480 with 1 Axes>"
      ]
     },
     "metadata": {},
     "output_type": "display_data"
    }
   ],
   "source": [
    "accuracy_list_train = []\n",
    "accuracy_list_val = []\n",
    "for n_estimators in n_estimators_list:\n",
    "    # You can fit the model at the same time you define it, because the fit function returns the fitted estimator.\n",
    "    model = RandomForestClassifier(n_estimators = n_estimators,\n",
    "                                   random_state = RANDOM_STATE).fit(X_train,y_train) \n",
    "    predictions_train = model.predict(X_train) ## The predicted values for the train dataset\n",
    "    predictions_val = model.predict(X_val) ## The predicted values for the test dataset\n",
    "    accuracy_train = accuracy_score(predictions_train,y_train)\n",
    "    accuracy_val = accuracy_score(predictions_val,y_val)\n",
    "    accuracy_list_train.append(accuracy_train)\n",
    "    accuracy_list_val.append(accuracy_val)\n",
    "\n",
    "plt.title('Train x Validation metrics')\n",
    "plt.xlabel('n_estimators')\n",
    "plt.ylabel('accuracy')\n",
    "plt.xticks(ticks = range(len(n_estimators_list )),labels=n_estimators_list)\n",
    "plt.plot(accuracy_list_train)\n",
    "plt.plot(accuracy_list_val)\n",
    "plt.legend(['Train','Validation'])"
   ]
  },
  {
   "cell_type": "code",
   "execution_count": 21,
   "metadata": {
    "execution": {
     "iopub.execute_input": "2023-10-29T15:55:42.866487Z",
     "iopub.status.busy": "2023-10-29T15:55:42.863778Z",
     "iopub.status.idle": "2023-10-29T15:55:42.877694Z",
     "shell.execute_reply": "2023-10-29T15:55:42.876565Z",
     "shell.execute_reply.started": "2023-10-29T15:55:42.866438Z"
    }
   },
   "outputs": [
    {
     "data": {
      "text/plain": [
       "'max_depht = 4\\nmin_samples_split = 10\\nn_estimators = 100'"
      ]
     },
     "execution_count": 21,
     "metadata": {},
     "output_type": "execute_result"
    }
   ],
   "source": [
    "\"\"\"max_depht = 4\n",
    "min_samples_split = 10\n",
    "n_estimators = 100\"\"\""
   ]
  },
  {
   "cell_type": "code",
   "execution_count": 22,
   "metadata": {
    "execution": {
     "iopub.execute_input": "2023-10-29T15:55:42.885441Z",
     "iopub.status.busy": "2023-10-29T15:55:42.882674Z",
     "iopub.status.idle": "2023-10-29T15:55:43.126369Z",
     "shell.execute_reply": "2023-10-29T15:55:43.125344Z",
     "shell.execute_reply.started": "2023-10-29T15:55:42.885376Z"
    }
   },
   "outputs": [],
   "source": [
    "#lets fit randomforest with above parameters\n",
    "random_forest_model = RandomForestClassifier(max_depth = 16, \n",
    "                                            min_samples_split = 10,\n",
    "                                            n_estimators = 100).fit(X_train_norm, y_train)"
   ]
  },
  {
   "cell_type": "code",
   "execution_count": 23,
   "metadata": {
    "execution": {
     "iopub.execute_input": "2023-10-29T15:55:43.133532Z",
     "iopub.status.busy": "2023-10-29T15:55:43.131199Z",
     "iopub.status.idle": "2023-10-29T15:55:43.155689Z",
     "shell.execute_reply": "2023-10-29T15:55:43.154689Z",
     "shell.execute_reply.started": "2023-10-29T15:55:43.133489Z"
    }
   },
   "outputs": [],
   "source": [
    "predictions_train = random_forest_model.predict(X_train_norm)"
   ]
  },
  {
   "cell_type": "code",
   "execution_count": 24,
   "metadata": {
    "execution": {
     "iopub.execute_input": "2023-10-29T15:55:43.165857Z",
     "iopub.status.busy": "2023-10-29T15:55:43.163175Z",
     "iopub.status.idle": "2023-10-29T15:55:43.177781Z",
     "shell.execute_reply": "2023-10-29T15:55:43.176766Z",
     "shell.execute_reply.started": "2023-10-29T15:55:43.165810Z"
    }
   },
   "outputs": [
    {
     "name": "stdout",
     "output_type": "stream",
     "text": [
      "training accuracy is 0.9277929155313351\n"
     ]
    }
   ],
   "source": [
    "print(\"training accuracy is {}\".format(accuracy_score(predictions_train, y_train)))"
   ]
  },
  {
   "cell_type": "code",
   "execution_count": 25,
   "metadata": {
    "execution": {
     "iopub.execute_input": "2023-10-29T15:55:43.186267Z",
     "iopub.status.busy": "2023-10-29T15:55:43.183193Z",
     "iopub.status.idle": "2023-10-29T15:55:43.203565Z",
     "shell.execute_reply": "2023-10-29T15:55:43.202486Z",
     "shell.execute_reply.started": "2023-10-29T15:55:43.186218Z"
    }
   },
   "outputs": [],
   "source": [
    "predictions_val = random_forest_model.predict(X_val_norm)"
   ]
  },
  {
   "cell_type": "code",
   "execution_count": 26,
   "metadata": {
    "execution": {
     "iopub.execute_input": "2023-10-29T15:55:43.212822Z",
     "iopub.status.busy": "2023-10-29T15:55:43.209985Z",
     "iopub.status.idle": "2023-10-29T15:55:43.224153Z",
     "shell.execute_reply": "2023-10-29T15:55:43.223054Z",
     "shell.execute_reply.started": "2023-10-29T15:55:43.212773Z"
    }
   },
   "outputs": [
    {
     "name": "stdout",
     "output_type": "stream",
     "text": [
      "accuracy is 0.9293478260869565\n"
     ]
    }
   ],
   "source": [
    "print(f\"accuracy is {accuracy_score(predictions_val, y_val)}\")"
   ]
  },
  {
   "cell_type": "code",
   "execution_count": 27,
   "metadata": {
    "execution": {
     "iopub.execute_input": "2023-10-29T15:55:43.232927Z",
     "iopub.status.busy": "2023-10-29T15:55:43.229793Z",
     "iopub.status.idle": "2023-10-29T15:55:43.463075Z",
     "shell.execute_reply": "2023-10-29T15:55:43.462208Z",
     "shell.execute_reply.started": "2023-10-29T15:55:43.232879Z"
    }
   },
   "outputs": [
    {
     "name": "stderr",
     "output_type": "stream",
     "text": [
      "c:\\users\\aksha\\onedrive\\desktop\\documents\\myprojects\\heartd\\.venv\\lib\\site-packages\\xgboost\\sklearn.py:797: UserWarning: `early_stopping_rounds` in `fit` method is deprecated for better compatibility with scikit-learn, use `early_stopping_rounds` in constructor or`set_params` instead.\n",
      "  UserWarning,\n"
     ]
    },
    {
     "name": "stdout",
     "output_type": "stream",
     "text": [
      "[0]\tvalidation_0-logloss:0.63286\n",
      "[1]\tvalidation_0-logloss:0.58626\n",
      "[2]\tvalidation_0-logloss:0.54787\n",
      "[3]\tvalidation_0-logloss:0.51209\n",
      "[4]\tvalidation_0-logloss:0.48187\n",
      "[5]\tvalidation_0-logloss:0.46284\n",
      "[6]\tvalidation_0-logloss:0.44078\n",
      "[7]\tvalidation_0-logloss:0.42217\n",
      "[8]\tvalidation_0-logloss:0.40229\n",
      "[9]\tvalidation_0-logloss:0.38710\n",
      "[10]\tvalidation_0-logloss:0.37602\n",
      "[11]\tvalidation_0-logloss:0.36353\n",
      "[12]\tvalidation_0-logloss:0.35373\n",
      "[13]\tvalidation_0-logloss:0.34622\n",
      "[14]\tvalidation_0-logloss:0.34133\n",
      "[15]\tvalidation_0-logloss:0.33527\n",
      "[16]\tvalidation_0-logloss:0.32876\n",
      "[17]\tvalidation_0-logloss:0.32491\n",
      "[18]\tvalidation_0-logloss:0.31949\n",
      "[19]\tvalidation_0-logloss:0.31439\n",
      "[20]\tvalidation_0-logloss:0.31134\n",
      "[21]\tvalidation_0-logloss:0.30988\n",
      "[22]\tvalidation_0-logloss:0.30619\n",
      "[23]\tvalidation_0-logloss:0.30375\n",
      "[24]\tvalidation_0-logloss:0.29891\n",
      "[25]\tvalidation_0-logloss:0.29860\n",
      "[26]\tvalidation_0-logloss:0.29419\n",
      "[27]\tvalidation_0-logloss:0.29029\n",
      "[28]\tvalidation_0-logloss:0.28709\n",
      "[29]\tvalidation_0-logloss:0.28616\n",
      "[30]\tvalidation_0-logloss:0.28478\n",
      "[31]\tvalidation_0-logloss:0.28575\n",
      "[32]\tvalidation_0-logloss:0.28473\n",
      "[33]\tvalidation_0-logloss:0.28440\n",
      "[34]\tvalidation_0-logloss:0.28365\n",
      "[35]\tvalidation_0-logloss:0.28578\n",
      "[36]\tvalidation_0-logloss:0.28401\n",
      "[37]\tvalidation_0-logloss:0.28305\n",
      "[38]\tvalidation_0-logloss:0.28333\n",
      "[39]\tvalidation_0-logloss:0.28180\n",
      "[40]\tvalidation_0-logloss:0.28181\n",
      "[41]\tvalidation_0-logloss:0.28252\n",
      "[42]\tvalidation_0-logloss:0.28486\n",
      "[43]\tvalidation_0-logloss:0.28490\n",
      "[44]\tvalidation_0-logloss:0.28522\n",
      "[45]\tvalidation_0-logloss:0.28648\n",
      "[46]\tvalidation_0-logloss:0.28754\n",
      "[47]\tvalidation_0-logloss:0.28805\n",
      "[48]\tvalidation_0-logloss:0.28829\n",
      "[49]\tvalidation_0-logloss:0.28921\n"
     ]
    },
    {
     "data": {
      "text/plain": [
       "XGBClassifier(base_score=0.5, booster='gbtree', callbacks=None,\n",
       "              colsample_bylevel=1, colsample_bynode=1, colsample_bytree=1,\n",
       "              early_stopping_rounds=None, enable_categorical=False,\n",
       "              eval_metric=None, gamma=0, gpu_id=-1, grow_policy='depthwise',\n",
       "              importance_type=None, interaction_constraints='',\n",
       "              learning_rate=0.1, max_bin=256, max_cat_to_onehot=4,\n",
       "              max_delta_step=0, max_depth=6, max_leaves=0, min_child_weight=1,\n",
       "              missing=nan, monotone_constraints='()', n_estimators=500,\n",
       "              n_jobs=0, num_parallel_tree=1, predictor='auto', random_state=0,\n",
       "              reg_alpha=0, reg_lambda=1, ...)"
      ]
     },
     "execution_count": 27,
     "metadata": {},
     "output_type": "execute_result"
    }
   ],
   "source": [
    "#lets use XGBoost model \n",
    "xgb_model = XGBClassifier(n_estimators = 500, learning_rate = 0.1, verbosity = 1)\n",
    "xgb_model.fit(X_train_norm, y_train, eval_set = [(X_val_norm, y_val)], early_stopping_rounds = 10)"
   ]
  },
  {
   "cell_type": "code",
   "execution_count": 28,
   "metadata": {
    "execution": {
     "iopub.execute_input": "2023-10-29T15:55:43.469260Z",
     "iopub.status.busy": "2023-10-29T15:55:43.467166Z",
     "iopub.status.idle": "2023-10-29T15:55:43.477419Z",
     "shell.execute_reply": "2023-10-29T15:55:43.476375Z",
     "shell.execute_reply.started": "2023-10-29T15:55:43.469225Z"
    }
   },
   "outputs": [],
   "source": [
    "predictions = xgb_model.predict(X_val_norm)"
   ]
  },
  {
   "cell_type": "code",
   "execution_count": 29,
   "metadata": {
    "execution": {
     "iopub.execute_input": "2023-10-29T15:55:43.484628Z",
     "iopub.status.busy": "2023-10-29T15:55:43.482201Z",
     "iopub.status.idle": "2023-10-29T15:55:43.494948Z",
     "shell.execute_reply": "2023-10-29T15:55:43.494035Z",
     "shell.execute_reply.started": "2023-10-29T15:55:43.484588Z"
    }
   },
   "outputs": [
    {
     "name": "stdout",
     "output_type": "stream",
     "text": [
      "accuracy of xgb model is 0.9130434782608695\n"
     ]
    }
   ],
   "source": [
    "print(\"accuracy of xgb model is {}\".format(accuracy_score(predictions, y_val)))"
   ]
  },
  {
   "cell_type": "code",
   "execution_count": 30,
   "metadata": {},
   "outputs": [
    {
     "data": {
      "text/plain": [
       "Index(['Age', 'RestingBP', 'Cholesterol', 'FastingBS', 'MaxHR', 'Oldpeak',\n",
       "       'HeartDisease', 'Sex_F', 'Sex_M', 'ChestPainType_ASY',\n",
       "       'ChestPainType_ATA', 'ChestPainType_NAP', 'ChestPainType_TA',\n",
       "       'RestingECG_LVH', 'RestingECG_Normal', 'RestingECG_ST',\n",
       "       'ExerciseAngina_N', 'ExerciseAngina_Y', 'ST_Slope_Down',\n",
       "       'ST_Slope_Flat', 'ST_Slope_Up'],\n",
       "      dtype='object')"
      ]
     },
     "execution_count": 30,
     "metadata": {},
     "output_type": "execute_result"
    }
   ],
   "source": [
    "df.columns"
   ]
  },
  {
   "cell_type": "code",
   "execution_count": 31,
   "metadata": {},
   "outputs": [],
   "source": [
    "from tkinter import *"
   ]
  },
  {
   "cell_type": "code",
   "execution_count": 32,
   "metadata": {},
   "outputs": [],
   "source": [
    "from sklearn.preprocessing import StandardScaler\n",
    "import joblib\n",
    "from sklearn.decomposition import PCA\n",
    "pca=PCA(n_components=0.90)"
   ]
  },
  {
   "cell_type": "code",
   "execution_count": 33,
   "metadata": {},
   "outputs": [],
   "source": [
    "import tkinter as tk\n",
    "from tkinter import messagebox\n",
    "import pandas as pd\n",
    "import joblib\n",
    "\n",
    "# Load the pre-trained machine learning model\n",
    "model = joblib.load('wine_quality_predict')\n",
    "\n",
    "# Create the main application window\n",
    "app = tk.Tk()\n",
    "app.title(\"Wine Quality Predictor\")\n",
    "\n",
    "# Load your dataset (replace 'your_dataset.csv' with your actual dataset file)\n",
    "df = pd.read_csv('heart.csv')\n",
    "\n",
    "# Function to make predictions\n",
    "def predict_heart_disease():\n",
    "    try:\n",
    "        # Get user inputs from entry fields and convert to appropriate data types\n",
    "        age = int(entry_fields['Age'].get())\n",
    "        sex = entry_fields['Sex'].get()\n",
    "        resting_bp = int(entry_fields['RestingBP'].get())\n",
    "        fasting_bs = int(entry_fields['FastingBS'].get())\n",
    "        resting_ecg = entry_fields['RestingECG'].get()\n",
    "        max_hr = int(entry_fields['MaxHR'].get())\n",
    "\n",
    "        # Create a dictionary with input data\n",
    "        input_data = {\n",
    "            'Age': [age],\n",
    "            'RestingBP': [resting_bp],\n",
    "            'FastingBS': [fasting_bs],\n",
    "            'RestingECG': [resting_ecg],\n",
    "            'MaxHR': [max_hr],\n",
    "        }\n",
    "\n",
    "        # Create a DataFrame from the input data\n",
    "        input_df = pd.DataFrame(input_data)\n",
    "\n",
    "        # Make a prediction using the loaded model\n",
    "        predicted_disease = model.predict(input_df)[0]\n",
    "\n",
    "        # Convert the predicted disease to a human-readable label\n",
    "        predicted_label = \"Present\" if predicted_disease == 1 else \"Not Present\"\n",
    "\n",
    "        # Display the predicted heart disease status\n",
    "        messagebox.showinfo(\"Prediction Result\", f\"Heart Disease Status: {predicted_label}\")\n",
    "    except ValueError:\n",
    "        # Handle non-integer or non-float input or other errors\n",
    "        messagebox.showerror(\"Error\", \"Please enter valid numeric values.\")\n",
    "\n",
    "# Create labels and entry fields for heart characteristics\n",
    "characteristics = [\n",
    "    'Age', 'Sex', 'RestingBP',\n",
    "    'FastingBS', 'RestingECG', 'MaxHR'\n",
    "]\n",
    "entry_fields = {}\n",
    "\n",
    "for char in characteristics:\n",
    "    label = tk.Label(app, text=char)\n",
    "    label.pack()\n",
    "    entry = tk.Entry(app)\n",
    "    entry.pack()\n",
    "    entry_fields[char] = entry\n",
    "\n",
    "# Create a predict button\n",
    "predict_button = tk.Button(app, text=\"Predict Heart Disease\", command=predict_heart_disease)\n",
    "predict_button.pack()\n",
    "\n",
    "# Start the GUI application\n",
    "app.mainloop()\n"
   ]
  },
  {
   "cell_type": "code",
   "execution_count": null,
   "metadata": {},
   "outputs": [],
   "source": []
  }
 ],
 "metadata": {
  "kernelspec": {
   "display_name": "Python 3 (ipykernel)",
   "language": "python",
   "name": "python3"
  },
  "language_info": {
   "codemirror_mode": {
    "name": "ipython",
    "version": 3
   },
   "file_extension": ".py",
   "mimetype": "text/x-python",
   "name": "python",
   "nbconvert_exporter": "python",
   "pygments_lexer": "ipython3",
   "version": "3.7.9"
  }
 },
 "nbformat": 4,
 "nbformat_minor": 4
}
